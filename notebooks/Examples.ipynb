{
 "cells": [
  {
   "cell_type": "code",
   "execution_count": 1,
   "id": "76606c85",
   "metadata": {},
   "outputs": [],
   "source": [
    "from hocr_utils import utils\n",
    "from PIL import Image"
   ]
  },
  {
   "cell_type": "markdown",
   "id": "e0aad9bb",
   "metadata": {},
   "source": [
    "## Transform PIL images to hOCR"
   ]
  },
  {
   "cell_type": "code",
   "execution_count": 2,
   "id": "b012b851",
   "metadata": {},
   "outputs": [],
   "source": [
    "image = Image.open('./data/sample.png')\n",
    "hocr = utils.images_to_hocr([image])"
   ]
  },
  {
   "cell_type": "markdown",
   "id": "6d33184f",
   "metadata": {},
   "source": [
    "## Transform pdf to hOCR"
   ]
  },
  {
   "cell_type": "code",
   "execution_count": 3,
   "id": "cecb5352",
   "metadata": {},
   "outputs": [],
   "source": [
    "hocr = utils.pdf_to_hocr('./data/sample.pdf')"
   ]
  },
  {
   "cell_type": "markdown",
   "id": "09ea08fa",
   "metadata": {},
   "source": [
    "## Transform hOCR to dictionary"
   ]
  },
  {
   "cell_type": "code",
   "execution_count": 4,
   "id": "ec5447e8",
   "metadata": {},
   "outputs": [],
   "source": [
    "hocr_dict = utils.hocr_to_dict(hocr)"
   ]
  },
  {
   "cell_type": "code",
   "execution_count": null,
   "id": "30c92253",
   "metadata": {},
   "outputs": [],
   "source": []
  }
 ],
 "metadata": {
  "kernelspec": {
   "display_name": "Python 3",
   "language": "python",
   "name": "python3"
  },
  "language_info": {
   "codemirror_mode": {
    "name": "ipython",
    "version": 3
   },
   "file_extension": ".py",
   "mimetype": "text/x-python",
   "name": "python",
   "nbconvert_exporter": "python",
   "pygments_lexer": "ipython3",
   "version": "3.8.8"
  },
  "toc": {
   "base_numbering": 1,
   "nav_menu": {},
   "number_sections": true,
   "sideBar": true,
   "skip_h1_title": false,
   "title_cell": "Table of Contents",
   "title_sidebar": "Contents",
   "toc_cell": false,
   "toc_position": {},
   "toc_section_display": true,
   "toc_window_display": false
  }
 },
 "nbformat": 4,
 "nbformat_minor": 5
}
