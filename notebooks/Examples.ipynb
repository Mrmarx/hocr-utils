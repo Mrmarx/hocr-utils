{
 "cells": [
  {
   "cell_type": "code",
   "execution_count": 2,
   "id": "db84fdb8",
   "metadata": {},
   "outputs": [],
   "source": [
    "from hocr_utils import utils\n",
    "from PIL import Image"
   ]
  },
  {
   "cell_type": "markdown",
   "id": "ef20b109",
   "metadata": {},
   "source": [
    "## Transform PIL images to hOCR"
   ]
  },
  {
   "cell_type": "code",
   "execution_count": 8,
   "id": "d9f59285",
   "metadata": {},
   "outputs": [],
   "source": [
    "image = Image.open('./data/sample.png')\n",
    "hocr = utils.images_to_hocr([image])"
   ]
  },
  {
   "cell_type": "markdown",
   "id": "0e167a12",
   "metadata": {},
   "source": [
    "## Transform pdf to hOCR"
   ]
  },
  {
   "cell_type": "code",
   "execution_count": 10,
   "id": "fb345018",
   "metadata": {},
   "outputs": [],
   "source": [
    "hocr = utils.pdf_to_hocr('./data/sample.pdf')"
   ]
  },
  {
   "cell_type": "markdown",
   "id": "dcf4827e",
   "metadata": {},
   "source": [
    "## Transform hOCR to dictionary"
   ]
  },
  {
   "cell_type": "code",
   "execution_count": 12,
   "id": "9e296aeb",
   "metadata": {},
   "outputs": [
    {
     "data": {
      "text/plain": [
       "[{'id': 'line_1_1',\n",
       "  'page': 0,\n",
       "  'x1': 272,\n",
       "  'y1': 207,\n",
       "  'x2': 1184,\n",
       "  'y2': 315,\n",
       "  'text': 'A Simple PDF File',\n",
       "  'len_text': 17},\n",
       " {'id': 'line_1_2',\n",
       "  'page': 0,\n",
       "  'x1': 301,\n",
       "  'y1': 400,\n",
       "  'x2': 1009,\n",
       "  'y2': 439,\n",
       "  'text': 'This is a small demonstration .pdf file -',\n",
       "  'len_text': 41},\n",
       " {'id': 'line_1_3',\n",
       "  'page': 0,\n",
       "  'x1': 299,\n",
       "  'y1': 500,\n",
       "  'x2': 1513,\n",
       "  'y2': 539,\n",
       "  'text': 'just for use in the Virtual Mechanics tutorials. More text. And more',\n",
       "  'len_text': 68},\n",
       " {'id': 'line_1_4',\n",
       "  'page': 0,\n",
       "  'x1': 301,\n",
       "  'y1': 550,\n",
       "  'x2': 1222,\n",
       "  'y2': 581,\n",
       "  'text': 'text. And more text. And more text. And more text.',\n",
       "  'len_text': 50},\n",
       " {'id': 'line_1_5',\n",
       "  'page': 0,\n",
       "  'x1': 301,\n",
       "  'y1': 649,\n",
       "  'x2': 1608,\n",
       "  'y2': 680,\n",
       "  'text': 'And more text. And more text. And more text. And more text. And more',\n",
       "  'len_text': 68},\n",
       " {'id': 'line_1_6',\n",
       "  'page': 0,\n",
       "  'x1': 301,\n",
       "  'y1': 699,\n",
       "  'x2': 1580,\n",
       "  'y2': 738,\n",
       "  'text': 'text. And more text. Boring, zzzzz. And more text. And more text. And',\n",
       "  'len_text': 69},\n",
       " {'id': 'line_1_7',\n",
       "  'page': 0,\n",
       "  'x1': 303,\n",
       "  'y1': 749,\n",
       "  'x2': 1611,\n",
       "  'y2': 780,\n",
       "  'text': 'more text. And more text. And more text. And more text. And more text.',\n",
       "  'len_text': 70},\n",
       " {'id': 'line_1_8',\n",
       "  'page': 0,\n",
       "  'x1': 301,\n",
       "  'y1': 799,\n",
       "  'x2': 850,\n",
       "  'y2': 830,\n",
       "  'text': 'And more text. And more text.',\n",
       "  'len_text': 29},\n",
       " {'id': 'line_1_9',\n",
       "  'page': 0,\n",
       "  'x1': 301,\n",
       "  'y1': 898,\n",
       "  'x2': 1608,\n",
       "  'y2': 929,\n",
       "  'text': 'And more text. And more text. And more text. And more text. And more',\n",
       "  'len_text': 68},\n",
       " {'id': 'line_1_10',\n",
       "  'page': 0,\n",
       "  'x1': 301,\n",
       "  'y1': 947,\n",
       "  'x2': 1564,\n",
       "  'y2': 987,\n",
       "  'text': 'text. And more text. And more text. Even more. Continued on page 2 ...',\n",
       "  'len_text': 70},\n",
       " {'id': 'line_1_1',\n",
       "  'page': 1,\n",
       "  'x1': 275,\n",
       "  'y1': 207,\n",
       "  'x2': 1172,\n",
       "  'y2': 315,\n",
       "  'text': 'Simple PDF File 2',\n",
       "  'len_text': 17},\n",
       " {'id': 'line_1_2',\n",
       "  'page': 1,\n",
       "  'x1': 304,\n",
       "  'y1': 400,\n",
       "  'x2': 1593,\n",
       "  'y2': 439,\n",
       "  'text': '...continued from page 1. Yet more text. And more text. And more text.',\n",
       "  'len_text': 70},\n",
       " {'id': 'line_1_3',\n",
       "  'page': 1,\n",
       "  'x1': 301,\n",
       "  'y1': 450,\n",
       "  'x2': 1608,\n",
       "  'y2': 481,\n",
       "  'text': 'And more text. And more text. And more text. And more text. And more',\n",
       "  'len_text': 68},\n",
       " {'id': 'line_1_4',\n",
       "  'page': 1,\n",
       "  'x1': 301,\n",
       "  'y1': 499,\n",
       "  'x2': 1529,\n",
       "  'y2': 539,\n",
       "  'text': 'text. Oh, how boring typing this stuff. But not as boring as watching',\n",
       "  'len_text': 69},\n",
       " {'id': 'line_1_5',\n",
       "  'page': 1,\n",
       "  'x1': 302,\n",
       "  'y1': 550,\n",
       "  'x2': 1598,\n",
       "  'y2': 589,\n",
       "  'text': 'paint dry. And more text. And more text. And more text. And more text.',\n",
       "  'len_text': 70},\n",
       " {'id': 'line_1_6',\n",
       "  'page': 1,\n",
       "  'x1': 303,\n",
       "  'y1': 600,\n",
       "  'x2': 1359,\n",
       "  'y2': 639,\n",
       "  'text': 'Boring. More, a little more text. The end, and just as well.',\n",
       "  'len_text': 60}]"
      ]
     },
     "execution_count": 12,
     "metadata": {},
     "output_type": "execute_result"
    }
   ],
   "source": [
    "from hocr_utils import utils\n",
    "hocr_dict = utils.hocr_as_dict(hocr)\n",
    "\n",
    "hocr = utils.pdf_to_hocr('./data/sample.pdf')\n",
    "hocr_dict = utils.hocr_as_dict(hocr)\n"
   ]
  },
  {
   "cell_type": "code",
   "execution_count": null,
   "id": "5a88cd4f",
   "metadata": {},
   "outputs": [],
   "source": []
  }
 ],
 "metadata": {
  "kernelspec": {
   "display_name": "Python 3",
   "language": "python",
   "name": "python3"
  },
  "language_info": {
   "codemirror_mode": {
    "name": "ipython",
    "version": 3
   },
   "file_extension": ".py",
   "mimetype": "text/x-python",
   "name": "python",
   "nbconvert_exporter": "python",
   "pygments_lexer": "ipython3",
   "version": "3.8.8"
  },
  "toc": {
   "base_numbering": 1,
   "nav_menu": {},
   "number_sections": true,
   "sideBar": true,
   "skip_h1_title": false,
   "title_cell": "Table of Contents",
   "title_sidebar": "Contents",
   "toc_cell": false,
   "toc_position": {},
   "toc_section_display": true,
   "toc_window_display": false
  }
 },
 "nbformat": 4,
 "nbformat_minor": 5
}
