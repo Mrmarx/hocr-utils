{
 "cells": [
  {
   "cell_type": "code",
   "execution_count": 1,
   "id": "814992a0",
   "metadata": {},
   "outputs": [],
   "source": [
    "from hocr_utils import utils\n",
    "from PIL import Image"
   ]
  },
  {
   "cell_type": "markdown",
   "id": "dd6a08d5",
   "metadata": {},
   "source": [
    "## Transform PIL images to hOCR"
   ]
  },
  {
   "cell_type": "code",
   "execution_count": 2,
   "id": "af755a50",
   "metadata": {},
   "outputs": [],
   "source": [
    "image = Image.open('./data/sample.png')\n",
    "hocr = utils.images_to_hocr([image])"
   ]
  },
  {
   "cell_type": "markdown",
   "id": "a7b76864",
   "metadata": {},
   "source": [
    "## Transform pdf to hOCR"
   ]
  },
  {
   "cell_type": "code",
   "execution_count": 3,
   "id": "d77cb625",
   "metadata": {},
   "outputs": [],
   "source": [
    "hocr = utils.pdf_to_hocr('./data/sample.pdf')"
   ]
  },
  {
   "cell_type": "markdown",
   "id": "ffef1519",
   "metadata": {},
   "source": [
    "## Transform hOCR to dictionary"
   ]
  },
  {
   "cell_type": "code",
   "execution_count": 4,
   "id": "b664e192",
   "metadata": {},
   "outputs": [],
   "source": [
    "hocr = utils.pdf_to_hocr('./data/sample.pdf')\n",
    "hocr_dict = utils.hocr_to_dict(hocr)"
   ]
  },
  {
   "cell_type": "code",
   "execution_count": null,
   "id": "d9aed120",
   "metadata": {},
   "outputs": [],
   "source": []
  }
 ],
 "metadata": {
  "kernelspec": {
   "display_name": "Python 3",
   "language": "python",
   "name": "python3"
  },
  "language_info": {
   "codemirror_mode": {
    "name": "ipython",
    "version": 3
   },
   "file_extension": ".py",
   "mimetype": "text/x-python",
   "name": "python",
   "nbconvert_exporter": "python",
   "pygments_lexer": "ipython3",
   "version": "3.8.8"
  },
  "toc": {
   "base_numbering": 1,
   "nav_menu": {},
   "number_sections": true,
   "sideBar": true,
   "skip_h1_title": false,
   "title_cell": "Table of Contents",
   "title_sidebar": "Contents",
   "toc_cell": false,
   "toc_position": {},
   "toc_section_display": true,
   "toc_window_display": false
  }
 },
 "nbformat": 4,
 "nbformat_minor": 5
}
